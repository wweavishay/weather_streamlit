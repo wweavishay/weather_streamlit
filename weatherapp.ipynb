{
  "nbformat": 4,
  "nbformat_minor": 0,
  "metadata": {
    "colab": {
      "provenance": [],
      "authorship_tag": "ABX9TyOVFGxUY1+G3Y02SQrFYUfH",
      "include_colab_link": true
    },
    "kernelspec": {
      "name": "python3",
      "display_name": "Python 3"
    },
    "language_info": {
      "name": "python"
    }
  },
  "cells": [
    {
      "cell_type": "markdown",
      "metadata": {
        "id": "view-in-github",
        "colab_type": "text"
      },
      "source": [
        "<a href=\"https://colab.research.google.com/github/wweavishay/weather_streamlit/blob/main/weatherapp.ipynb\" target=\"_parent\"><img src=\"https://colab.research.google.com/assets/colab-badge.svg\" alt=\"Open In Colab\"/></a>"
      ]
    },
    {
      "cell_type": "code",
      "execution_count": 191,
      "metadata": {
        "id": "uFMVad3UDCPm"
      },
      "outputs": [],
      "source": [
        "import requests\n",
        "import json\n",
        "from datetime import datetime\n",
        "import pytz\n",
        "import matplotlib.pyplot as plt\n",
        "from PIL import Image\n",
        "from io import BytesIO\n",
        "\n",
        "API_KEY = \"cc684ce23b3296f9598c4187825107eb\"\n"
      ]
    },
    {
      "cell_type": "code",
      "source": [
        "# json file\n",
        "\n",
        "# load json setting\n",
        "def load_settings():\n",
        "    try:\n",
        "        with open('settings.json', 'r') as f:\n",
        "            return json.load(f)\n",
        "    except (FileNotFoundError, json.JSONDecodeError):\n",
        "        return {'timezone': 'UTC'}  # Default timezone is UTC\n",
        "\n",
        "# save json setting\n",
        "def save_settings(settings):\n",
        "    with open('settings.json', 'w') as f:\n",
        "        json.dump(settings, f)\n",
        "\n"
      ],
      "metadata": {
        "id": "kuLeccCHDV3x"
      },
      "execution_count": 192,
      "outputs": []
    },
    {
      "cell_type": "code",
      "source": [
        "# functions the send data to json file\n",
        "\n",
        "def set_default_location():\n",
        "    city_name = input(\"Enter your default city name: \")\n",
        "    country_name = input(\"Enter the country (optional, press Enter to skip): \")\n",
        "    settings = load_settings()\n",
        "    settings['default_location'] = {'city': city_name, 'country': country_name}\n",
        "    save_settings(settings)\n",
        "    print(\"Default location set successfully.\")\n",
        "\n",
        "\n",
        "def set_temperature_unit():\n",
        "    unit = input(\"Enter your preferred temperature unit (Celsius or Fahrenheit): \").lower()\n",
        "    if unit in ['celsius', 'fahrenheit']:\n",
        "        settings = load_settings()\n",
        "        settings['temperature_unit'] = unit\n",
        "        save_settings(settings)\n",
        "        print(\"Temperature unit preference set successfully.\")\n",
        "    else:\n",
        "        print(\"Invalid temperature unit. Please enter either Celsius or Fahrenheit.\")"
      ],
      "metadata": {
        "id": "df3cZY9QYmdR"
      },
      "execution_count": null,
      "outputs": []
    },
    {
      "cell_type": "code",
      "source": [
        "def get_weather(city_name, country_name=None):\n",
        "    if country_name:\n",
        "        url = f\"http://api.openweathermap.org/data/2.5/weather?q={city_name},{country_name}&appid={API_KEY}&units=metric\"\n",
        "    else:\n",
        "        url = f\"http://api.openweathermap.org/data/2.5/weather?q={city_name}&appid={API_KEY}&units=metric\"\n",
        "\n",
        "    response = requests.get(url)\n",
        "\n",
        "    if response.status_code != 200:\n",
        "        print(f\"Error: Failed to retrieve weather data.\")\n",
        "        return None\n",
        "\n",
        "    data = response.json()\n",
        "\n",
        "    if data[\"cod\"] == \"404\":\n",
        "        print(\"Error: city not found.\")\n",
        "        return None\n",
        "\n",
        "    return data\n"
      ],
      "metadata": {
        "id": "p13NYTFVDZc3"
      },
      "execution_count": 193,
      "outputs": []
    },
    {
      "cell_type": "code",
      "source": [
        "def display_weather(city_name, country_name=None):\n",
        "    city_name = city_name.lower()\n",
        "    country_name = country_name.lower() if country_name else None\n",
        "    weather_data = get_weather(city_name, country_name)\n",
        "\n",
        "    if weather_data:\n",
        "        temperature = weather_data[\"main\"][\"temp\"]\n",
        "        weather_conditions = weather_data[\"weather\"][0][\"description\"]\n",
        "        humidity = weather_data[\"main\"][\"humidity\"]\n",
        "\n",
        "        user_settings = load_settings()\n",
        "        user_timezone = pytz.timezone(user_settings.get('timezone', 'UTC'))\n",
        "        user_time = datetime.now(user_timezone)\n",
        "        formatted_user_time = user_time.strftime(\"%d / %m / %Y - %H:%M\")\n",
        "\n",
        "        city_timezone_offset = weather_data[\"timezone\"]\n",
        "        city_timezone = pytz.FixedOffset(city_timezone_offset // 60)\n",
        "        city_time = user_time.astimezone(city_timezone)\n",
        "        formatted_city_time = city_time.strftime(\"%d / %m / %Y - %H:%M\")\n",
        "\n",
        "        print(f\"Weather in {city_name}:\")\n",
        "        if user_settings.get('temperature_unit', 'celsius').lower() == 'celsius':\n",
        "            print(f\"Temperature: {temperature}°C\")\n",
        "        else:\n",
        "            temperature_f = (temperature * 9 / 5) + 32\n",
        "            print(f\"Temperature: {temperature_f}°F\")\n",
        "        print(f\"Weather Conditions: {weather_conditions}\")\n",
        "        print(f\"Humidity: {humidity}%\")\n",
        "        print(f\"Local Date and Time (User's Timezone): {formatted_user_time}\")\n",
        "        print(f\"Local Date and Time ({city_name}): {formatted_city_time}\")\n",
        "        print(\"\")\n",
        "\n",
        "        # Display weather image based on conditions\n",
        "        if temperature < 10:\n",
        "            image_url = \"https://cdn-icons-png.flaticon.com/128/2469/2469994.png\"  # Cold icon\n",
        "        elif 10 <= temperature < 20:\n",
        "            image_url = \"https://cdn-icons-png.flaticon.com/128/1163/1163624.png\"  # Moderate icon\n",
        "        else:\n",
        "            image_url = \"https://cdn-icons-png.flaticon.com/128/9231/9231728.png\"  # Warm icon\n",
        "\n",
        "        response = requests.get(image_url)\n",
        "        if response.status_code == 200:\n",
        "            img = Image.open(BytesIO(response.content))\n",
        "            plt.imshow(img)\n",
        "            plt.axis('off')\n",
        "            plt.show()\n",
        "        else:\n",
        "            print(\"Error: Could not fetch weather image.\")\n"
      ],
      "metadata": {
        "id": "uc6VRMpFTXJi"
      },
      "execution_count": 194,
      "outputs": []
    },
    {
      "cell_type": "code",
      "source": [
        "def main():\n",
        "    print(\"Welcome to the Weather App!\")\n",
        "\n",
        "    while True:\n",
        "      print(\"Write the number of the function to choose one: (for example number 3 to display weather )\")\n",
        "      print(\"1. Set Default Location\")\n",
        "      print(\"2. Set Temperature Unit\")\n",
        "      print(\"3. Display Weather\")\n",
        "      choice = input(\"Enter your choice: \")\n",
        "\n",
        "\n",
        "      if choice == '1':\n",
        "          set_default_location()\n",
        "      elif choice == '2':\n",
        "          set_temperature_unit()\n",
        "      elif choice == '3':\n",
        "          settings = load_settings()\n",
        "          default_location = settings.get('default_location')\n",
        "          if default_location:\n",
        "              display_weather(default_location['city'], default_location['country'])\n",
        "          else:\n",
        "              print(\"Default location not set. Please set default location first.\")\n",
        "      else:\n",
        "          print(\"Invalid choice.\")\n",
        "      print(\"------------------------------------------------------------------------------\")\n",
        "\n",
        "if __name__ == \"__main__\":\n",
        "    main()\n"
      ],
      "metadata": {
        "colab": {
          "base_uri": "https://localhost:8080/",
          "height": 1000
        },
        "id": "3FO8DjmjUVRM",
        "outputId": "a0d09e57-805b-4f3d-d24e-cd7e58b7e404"
      },
      "execution_count": null,
      "outputs": [
        {
          "output_type": "stream",
          "name": "stdout",
          "text": [
            "Welcome to the Weather App!\n",
            "Write the number of the function to choose one: (for example number 3 to display weather )\n",
            "1. Set Default Location\n",
            "2. Set Temperature Unit\n",
            "3. Display Weather\n",
            "Enter your choice: 3\n",
            "Default location not set. Please set default location first.\n",
            "------------------------------------------------------------------------------\n",
            "Write the number of the function to choose one: (for example number 3 to display weather )\n",
            "1. Set Default Location\n",
            "2. Set Temperature Unit\n",
            "3. Display Weather\n",
            "Enter your choice: 1\n",
            "Enter your default city name: london\n",
            "Enter the country (optional, press Enter to skip): \n",
            "Default location set successfully.\n",
            "------------------------------------------------------------------------------\n",
            "Write the number of the function to choose one: (for example number 3 to display weather )\n",
            "1. Set Default Location\n",
            "2. Set Temperature Unit\n",
            "3. Display Weather\n",
            "Enter your choice: 3\n",
            "Weather in london:\n",
            "Temperature: 13.09°C\n",
            "Weather Conditions: overcast clouds\n",
            "Humidity: 80%\n",
            "Local Date and Time (User's Timezone): 31 / 05 / 2024 - 20:47\n",
            "Local Date and Time (london): 31 / 05 / 2024 - 21:47\n",
            "\n"
          ]
        },
        {
          "output_type": "display_data",
          "data": {
            "text/plain": [
              "<Figure size 640x480 with 1 Axes>"
            ],
            "image/png": "[encoded data removed]"
          },
          "metadata": {}
        },
        {
          "output_type": "stream",
          "name": "stdout",
          "text": [
            "------------------------------------------------------------------------------\n",
            "Write the number of the function to choose one: (for example number 3 to display weather )\n",
            "1. Set Default Location\n",
            "2. Set Temperature Unit\n",
            "3. Display Weather\n"
          ]
        }
      ]
    }
  ]
}